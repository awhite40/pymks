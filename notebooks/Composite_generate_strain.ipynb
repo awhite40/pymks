{
 "metadata": {
  "name": "",
  "signature": "sha256:55fac169fe83b8f8b5b2b0550783d948a2ac67647e20f60ba1f7a5a87d4c654b"
 },
 "nbformat": 3,
 "nbformat_minor": 0,
 "worksheets": [
  {
   "cells": [
    {
     "cell_type": "code",
     "collapsed": false,
     "input": [
      "%matplotlib inline\n",
      "%load_ext autoreload\n",
      "%autoreload 2\n",
      "\n",
      "import numpy as np\n",
      "import matplotlib.pyplot as plt"
     ],
     "language": "python",
     "metadata": {},
     "outputs": [],
     "prompt_number": 1
    },
    {
     "cell_type": "code",
     "collapsed": false,
     "input": [
      "import pymks\n",
      "\n",
      "L= 21\n",
      "center = (L-1)/2\n",
      "n_samples = 364"
     ],
     "language": "python",
     "metadata": {},
     "outputs": [],
     "prompt_number": 2
    },
    {
     "cell_type": "code",
     "collapsed": false,
     "input": [
      "import scipy.io\n",
      "\n",
      "mat = scipy.io.loadmat('Elong_all.mat')\n",
      "El = mat['ElongFib']\n",
      "e11 = mat['e11']\n",
      "#El = El[0:2]\n",
      "#e11 = e11[0:2]\n",
      "El.shape"
     ],
     "language": "python",
     "metadata": {},
     "outputs": [
      {
       "metadata": {},
       "output_type": "pyout",
       "prompt_number": 3,
       "text": [
        "(364L, 21L, 21L, 21L)"
       ]
      }
     ],
     "prompt_number": 3
    },
    {
     "cell_type": "code",
     "collapsed": false,
     "input": [
      "from pymks.tools import draw_microstructure_strain\n",
      "\n",
      "elastic_modulus = (1., 2.)\n",
      "poissons_ratio = (0.3, 0.3)\n",
      "\n",
      "#draw_microstructure_strain(El[1, center, :, :], e11[1, center, :, :])"
     ],
     "language": "python",
     "metadata": {},
     "outputs": [],
     "prompt_number": 4
    }
   ],
   "metadata": {}
  }
 ]
}